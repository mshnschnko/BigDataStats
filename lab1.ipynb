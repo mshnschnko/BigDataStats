{
 "cells": [
  {
   "cell_type": "code",
   "execution_count": 3,
   "metadata": {},
   "outputs": [
    {
     "name": "stdout",
     "output_type": "stream",
     "text": [
      "[-4, 10, -9, -3, 4, -8, 0]\n",
      "[6, -4, 5, -10, 9, 10, 3]\n"
     ]
    }
   ],
   "source": [
    "import random\n",
    "import numpy as np\n",
    "\n",
    "a, b = -10, 10\n",
    "x = random.sample(range(-10, 11), 7)\n",
    "y = random.sample(range(-10, 11), 7)\n",
    "print(x)\n",
    "print(y)"
   ]
  },
  {
   "cell_type": "code",
   "execution_count": 4,
   "metadata": {},
   "outputs": [
    {
     "name": "stdout",
     "output_type": "stream",
     "text": [
      "38\n",
      "47\n"
     ]
    }
   ],
   "source": [
    "print(sum([abs(x1) for x1 in x]))\n",
    "print(sum([abs(y1) for y1 in y]))"
   ]
  },
  {
   "cell_type": "code",
   "execution_count": 5,
   "metadata": {},
   "outputs": [
    {
     "name": "stdout",
     "output_type": "stream",
     "text": [
      "[-4, 6, 10, -4, -9, 5, -3, -10, 4, 9, -8, 10, 0, 3]\n",
      "[-10, -9, -8, -4, -4, -3, 0, 3, 4, 5, 6, 9, 10, 10]\n"
     ]
    }
   ],
   "source": [
    "z = list(np.array(list(zip(x, y)), dtype=int).flat)\n",
    "print(z)\n",
    "z.sort()\n",
    "print(z)"
   ]
  },
  {
   "cell_type": "code",
   "execution_count": 6,
   "metadata": {},
   "outputs": [],
   "source": [
    "from typing import Iterable, Union\n",
    "from numpy import inf\n",
    "\n",
    "def norm(x: Iterable, ord: Union[int, None, float], w: list = [1]*len(x)) -> float:\n",
    "    return np.linalg.norm(list(i*j for i, j in zip(x, w)), ord=ord)"
   ]
  },
  {
   "cell_type": "code",
   "execution_count": 9,
   "metadata": {},
   "outputs": [
    {
     "name": "stdout",
     "output_type": "stream",
     "text": [
      "w =  [0.4012384343911024, 0.2291516454995668, 0.6815830805052419, 0.9218526948650358, 0.32972206884925936, 0.7103896408683864, 0.034832060591363456, 0.942326350925048, 0.8624618389015181, 0.8298778764042721, 0.2651118221347174, 0.26876898024894036, 0.45413816303364196, 0.43220381017818754]\n",
      "\n",
      "1st norm of x =  38.0\n",
      "2nd norm of x =  16.911534525287763\n",
      "infinite norm of x =  10.0\n",
      "weighted norm of x =  19.798281404046488\n",
      "\n",
      "1st norm of y =  47.0\n",
      "2nd norm of y =  19.157244060668017\n",
      "infinite norm of y =  10.0\n",
      "weighted norm of y =  24.16122694763634\n",
      "\n",
      "1st norm of z =  38.0\n",
      "2nd norm of z =  16.911534525287763\n",
      "infinite norm of z =  10.0\n",
      "weighted norm of z =  41.96410905248104\n"
     ]
    }
   ],
   "source": [
    "w = [random.random() for _ in range(len(z))]\n",
    "print(\"w = \", w)\n",
    "print()\n",
    "print(\"1st norm of x = \", norm(x, 1))\n",
    "print(\"2nd norm of x = \", norm(x, 2))\n",
    "print(\"infinite norm of x = \", norm(x, inf))\n",
    "print(\"weighted norm of x = \", norm(x, 1, w[:len(x)]))\n",
    "print()\n",
    "print(\"1st norm of y = \", norm(y, 1))\n",
    "print(\"2nd norm of y = \", norm(y, 2))\n",
    "print(\"infinite norm of y = \", norm(y, inf))\n",
    "print(\"weighted norm of y = \", norm(y, 1, w[len(y):]))\n",
    "print()\n",
    "print(\"1st norm of z = \", norm(z, 1))\n",
    "print(\"2nd norm of z = \", norm(z, 2))\n",
    "print(\"infinite norm of z = \", norm(z, inf))\n",
    "print(\"weighted norm of z = \", norm(z, 1, w))"
   ]
  },
  {
   "cell_type": "code",
   "execution_count": null,
   "metadata": {},
   "outputs": [],
   "source": [
    "A = np.linspace(1, 100, 100)\n",
    "A = A.reshape((10, 10))\n",
    "print(A)"
   ]
  },
  {
   "cell_type": "code",
   "execution_count": 12,
   "metadata": {},
   "outputs": [],
   "source": [
    "import math as m\n",
    "\n",
    "def factorial(n: int) -> int:\n",
    "    return m.factorial(n)"
   ]
  },
  {
   "cell_type": "code",
   "execution_count": 16,
   "metadata": {},
   "outputs": [
    {
     "name": "stdout",
     "output_type": "stream",
     "text": [
      "x = [1, 2, 3, 4, 5]\n",
      "w = [0.2, 0.2, 0.2, 0.2, 0.2]\n",
      "min of x =  1\n",
      "max of x =  5\n",
      "sum of x elements =  15\n",
      "1st norm of x =  15.0\n",
      "2nd norm of x =  7.416198487095663\n",
      "infinite norm of x =  5.0\n",
      "weighted norm of x =  3.0\n"
     ]
    }
   ],
   "source": [
    "import math as m\n",
    "\n",
    "print(\"x = \", end='')\n",
    "x = [int(n) for n in input().split()]\n",
    "print(x)\n",
    "print(\"w = \", end='')\n",
    "w = [float(n) for n in input().split()]\n",
    "print(w)\n",
    "if len(x) != len(w):\n",
    "    raise ValueError(\"the length of x must be equal to the length of w\")\n",
    "if any([el < 0 for el in w]):\n",
    "    raise ValueError(\"Elements of w must be non-negative\")\n",
    "if not m.isclose(sum(w), 1.0):\n",
    "    raise ValueError(\"Sum of elements of w must be equal 1\")\n",
    "\n",
    "print(\"min of x = \", min(x))\n",
    "print(\"max of x = \", max(x))\n",
    "print(\"sum of x elements = \", sum(x))\n",
    "print(\"1st norm of x = \", norm(x, 1))\n",
    "print(\"2nd norm of x = \", norm(x, 2))\n",
    "print(\"infinite norm of x = \", norm(x, inf))\n",
    "print(\"weighted norm of x = \", norm(x, 1, w))\n"
   ]
  }
 ],
 "metadata": {
  "kernelspec": {
   "display_name": ".venv",
   "language": "python",
   "name": "python3"
  },
  "language_info": {
   "codemirror_mode": {
    "name": "ipython",
    "version": 3
   },
   "file_extension": ".py",
   "mimetype": "text/x-python",
   "name": "python",
   "nbconvert_exporter": "python",
   "pygments_lexer": "ipython3",
   "version": "3.11.4"
  },
  "orig_nbformat": 4
 },
 "nbformat": 4,
 "nbformat_minor": 2
}
