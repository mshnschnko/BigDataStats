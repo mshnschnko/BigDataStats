{
 "cells": [
  {
   "cell_type": "code",
   "execution_count": 1,
   "metadata": {},
   "outputs": [
    {
     "name": "stdout",
     "output_type": "stream",
     "text": [
      "[5, 8, -9, 2, -2, -4, -10]\n",
      "[-2, -7, 9, 5, -8, -4, -1]\n"
     ]
    }
   ],
   "source": [
    "import random\n",
    "import numpy as np\n",
    "\n",
    "a, b = -10, 10\n",
    "x = random.sample(range(-10, 11), 7)\n",
    "y = random.sample(range(-10, 11), 7)\n",
    "print(x)\n",
    "print(y)"
   ]
  },
  {
   "cell_type": "code",
   "execution_count": 17,
   "metadata": {},
   "outputs": [
    {
     "name": "stdout",
     "output_type": "stream",
     "text": [
      "39\n",
      "42\n"
     ]
    }
   ],
   "source": [
    "print(sum([abs(x1) for x1 in x]))\n",
    "print(sum([abs(y1) for y1 in y]))"
   ]
  },
  {
   "cell_type": "code",
   "execution_count": 18,
   "metadata": {},
   "outputs": [
    {
     "name": "stdout",
     "output_type": "stream",
     "text": [
      "[9, 4, -3, -4, -1, 5, -10, -6, -6, 8, 3, -10, 7, -5]\n",
      "[-10, -10, -6, -6, -5, -4, -3, -1, 3, 4, 5, 7, 8, 9]\n"
     ]
    }
   ],
   "source": [
    "z = list(np.array(list(zip(x, y)), dtype=int).flat)\n",
    "print(z)\n",
    "z.sort()\n",
    "print(z)"
   ]
  },
  {
   "cell_type": "code",
   "execution_count": 19,
   "metadata": {},
   "outputs": [],
   "source": [
    "from typing import Iterable, Union\n",
    "from numpy import inf\n",
    "\n",
    "def norm(x: Iterable, ord: Union[int, None, float], w: list = [1]*len(x)) -> float:\n",
    "    return np.linalg.norm(list(i*j for i, j in zip(x, w)), ord=ord)"
   ]
  },
  {
   "cell_type": "code",
   "execution_count": 20,
   "metadata": {},
   "outputs": [
    {
     "name": "stdout",
     "output_type": "stream",
     "text": [
      "w =  [0.04347849267000048, 0.7762117797673819, 0.7110660898700272, 0.26973392553985454, 0.5686987857485613, 0.9546935090237793, 0.335091631454722, 0.9031275028621846, 0.6954979449970865, 0.7990822564771187, 0.3989814837554557, 0.9944294471246496, 0.9494258656854467, 0.9454641590161457]\n",
      "\n",
      "1st norm of x =  39.0\n",
      "2nd norm of x =  16.881943016134134\n",
      "infinite norm of x =  10.0\n",
      "weighted norm of x =  14.75026178034648\n",
      "\n",
      "1st norm of y =  42.0\n",
      "2nd norm of y =  16.792855623746664\n",
      "infinite norm of y =  10.0\n",
      "weighted norm of y =  34.96081700528781\n",
      "\n",
      "1st norm of z =  44.0\n",
      "2nd norm of z =  17.944358444926362\n",
      "infinite norm of z =  10.0\n",
      "weighted norm of z =  52.99569394507583\n"
     ]
    }
   ],
   "source": [
    "w = [random.random() for _ in range(len(z))]\n",
    "print(\"w = \", w)\n",
    "print()\n",
    "print(\"1st norm of x = \", norm(x, 1))\n",
    "print(\"2nd norm of x = \", norm(x, 2))\n",
    "print(\"infinite norm of x = \", norm(x, inf))\n",
    "print(\"weighted norm of x = \", norm(x, 1, w[:len(x)]))\n",
    "print()\n",
    "print(\"1st norm of y = \", norm(y, 1))\n",
    "print(\"2nd norm of y = \", norm(y, 2))\n",
    "print(\"infinite norm of y = \", norm(y, inf))\n",
    "print(\"weighted norm of y = \", norm(y, 1, w[len(y):]))\n",
    "print()\n",
    "print(\"1st norm of z = \", norm(z, 1))\n",
    "print(\"2nd norm of z = \", norm(z, 2))\n",
    "print(\"infinite norm of z = \", norm(z, inf))\n",
    "print(\"weighted norm of z = \", norm(z, 1, w))"
   ]
  },
  {
   "cell_type": "code",
   "execution_count": null,
   "metadata": {},
   "outputs": [],
   "source": [
    "A = np.linspace(1, 100, 100)\n",
    "A = A.reshape((10, 10))\n",
    "print(A)"
   ]
  },
  {
   "cell_type": "code",
   "execution_count": 21,
   "metadata": {},
   "outputs": [],
   "source": [
    "import math as m\n",
    "\n",
    "def factorial(n: int) -> int:\n",
    "    return m.factorial(n)\n",
    "\n",
    "def my_factorial(n: int) -> int:\n",
    "    if n < 0:\n",
    "        raise ValueError(\"n musts be non-negative\")\n",
    "    res = 1\n",
    "    # i = 1\n",
    "    for i in range(1, n+1):\n",
    "        res *= i\n",
    "        i += 1\n",
    "    return res"
   ]
  },
  {
   "cell_type": "code",
   "execution_count": 23,
   "metadata": {},
   "outputs": [
    {
     "name": "stdout",
     "output_type": "stream",
     "text": [
      "5040\n",
      "5040\n"
     ]
    }
   ],
   "source": [
    "x = 7\n",
    "print(my_factorial(x))\n",
    "print(factorial(x))"
   ]
  },
  {
   "cell_type": "code",
   "execution_count": 25,
   "metadata": {},
   "outputs": [
    {
     "name": "stdout",
     "output_type": "stream",
     "text": [
      "x = [1, 1, 1, 1]\n",
      "w = [1.0, 1.0, 1.0, 1.0]\n"
     ]
    },
    {
     "ename": "ValueError",
     "evalue": "Sum of elements of w must be equal 1",
     "output_type": "error",
     "traceback": [
      "\u001b[1;31m---------------------------------------------------------------------------\u001b[0m",
      "\u001b[1;31mValueError\u001b[0m                                Traceback (most recent call last)",
      "\u001b[1;32mc:\\Users\\misha\\BigDataStats\\lab1.ipynb Ячейка 9\u001b[0m line \u001b[0;36m1\n\u001b[0;32m     <a href='vscode-notebook-cell:/c%3A/Users/misha/BigDataStats/lab1.ipynb#X10sZmlsZQ%3D%3D?line=11'>12</a>\u001b[0m     \u001b[39mraise\u001b[39;00m \u001b[39mValueError\u001b[39;00m(\u001b[39m\"\u001b[39m\u001b[39mElements of w must be non-negative\u001b[39m\u001b[39m\"\u001b[39m)\n\u001b[0;32m     <a href='vscode-notebook-cell:/c%3A/Users/misha/BigDataStats/lab1.ipynb#X10sZmlsZQ%3D%3D?line=12'>13</a>\u001b[0m \u001b[39mif\u001b[39;00m \u001b[39mnot\u001b[39;00m m\u001b[39m.\u001b[39misclose(\u001b[39msum\u001b[39m(w), \u001b[39m1.0\u001b[39m):\n\u001b[1;32m---> <a href='vscode-notebook-cell:/c%3A/Users/misha/BigDataStats/lab1.ipynb#X10sZmlsZQ%3D%3D?line=13'>14</a>\u001b[0m     \u001b[39mraise\u001b[39;00m \u001b[39mValueError\u001b[39;00m(\u001b[39m\"\u001b[39m\u001b[39mSum of elements of w must be equal 1\u001b[39m\u001b[39m\"\u001b[39m)\n\u001b[0;32m     <a href='vscode-notebook-cell:/c%3A/Users/misha/BigDataStats/lab1.ipynb#X10sZmlsZQ%3D%3D?line=15'>16</a>\u001b[0m \u001b[39mprint\u001b[39m(\u001b[39m\"\u001b[39m\u001b[39mmin of x = \u001b[39m\u001b[39m\"\u001b[39m, \u001b[39mmin\u001b[39m(x))\n\u001b[0;32m     <a href='vscode-notebook-cell:/c%3A/Users/misha/BigDataStats/lab1.ipynb#X10sZmlsZQ%3D%3D?line=16'>17</a>\u001b[0m \u001b[39mprint\u001b[39m(\u001b[39m\"\u001b[39m\u001b[39mmax of x = \u001b[39m\u001b[39m\"\u001b[39m, \u001b[39mmax\u001b[39m(x))\n",
      "\u001b[1;31mValueError\u001b[0m: Sum of elements of w must be equal 1"
     ]
    }
   ],
   "source": [
    "import math as m\n",
    "\n",
    "print(\"x = \", end='')\n",
    "x = [int(n) for n in input().split()]\n",
    "print(x)\n",
    "print(\"w = \", end='')\n",
    "w = [float(n) for n in input().split()]\n",
    "print(w)\n",
    "if len(x) != len(w):\n",
    "    raise ValueError(\"the length of x must be equal to the length of w\")\n",
    "if any([el < 0 for el in w]):\n",
    "    raise ValueError(\"Elements of w must be non-negative\")\n",
    "if not m.isclose(sum(w), 1.0):\n",
    "    raise ValueError(\"Sum of elements of w must be equal 1\")\n",
    "\n",
    "print(\"min of x = \", min(x))\n",
    "print(\"max of x = \", max(x))\n",
    "print(\"sum of x elements = \", sum(x))\n",
    "print(\"1st norm of x = \", norm(x, 1))\n",
    "print(\"2nd norm of x = \", norm(x, 2))\n",
    "print(\"infinite norm of x = \", norm(x, inf))\n",
    "print(\"weighted norm of x = \", norm(x, 1, w))\n"
   ]
  },
  {
   "cell_type": "code",
   "execution_count": 15,
   "metadata": {},
   "outputs": [
    {
     "name": "stdout",
     "output_type": "stream",
     "text": [
      "False\n"
     ]
    }
   ],
   "source": [
    "print(0.1+0.2 == 0.3)"
   ]
  }
 ],
 "metadata": {
  "kernelspec": {
   "display_name": ".venv",
   "language": "python",
   "name": "python3"
  },
  "language_info": {
   "codemirror_mode": {
    "name": "ipython",
    "version": 3
   },
   "file_extension": ".py",
   "mimetype": "text/x-python",
   "name": "python",
   "nbconvert_exporter": "python",
   "pygments_lexer": "ipython3",
   "version": "3.11.4"
  },
  "orig_nbformat": 4
 },
 "nbformat": 4,
 "nbformat_minor": 2
}
