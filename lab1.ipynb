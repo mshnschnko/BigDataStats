{
 "cells": [
  {
   "cell_type": "code",
   "execution_count": 3,
   "metadata": {},
   "outputs": [
    {
     "name": "stdout",
     "output_type": "stream",
     "text": [
      "[-6, -4, -5, -10, -8, 0, -1]\n",
      "[-5, -1, -9, 9, -10, 0, -8]\n"
     ]
    }
   ],
   "source": [
    "import random\n",
    "import numpy as np\n",
    "\n",
    "a, b = -10, 10\n",
    "x = random.sample(range(-10, 10), 7)\n",
    "y = random.sample(range(-10, 10), 7)\n",
    "print(x)\n",
    "print(y)"
   ]
  },
  {
   "cell_type": "code",
   "execution_count": 41,
   "metadata": {},
   "outputs": [
    {
     "name": "stdout",
     "output_type": "stream",
     "text": [
      "34\n",
      "38\n"
     ]
    }
   ],
   "source": [
    "print(sum([abs(x1) for x1 in x]))\n",
    "print(sum([abs(y1) for y1 in y]))"
   ]
  },
  {
   "cell_type": "code",
   "execution_count": 65,
   "metadata": {},
   "outputs": [
    {
     "name": "stdout",
     "output_type": "stream",
     "text": [
      "[1, 8, 2, 5, 3, -4, 4, -10, 5, 2]\n",
      "[-10, -4, 1, 2, 2, 3, 4, 5, 5, 8]\n"
     ]
    }
   ],
   "source": [
    "z = list(np.array(list(zip(x, y)), dtype=int).flat)\n",
    "print(z)\n",
    "z.sort()\n",
    "print(z)"
   ]
  },
  {
   "cell_type": "code",
   "execution_count": 66,
   "metadata": {},
   "outputs": [],
   "source": [
    "from typing import Iterable, Union\n",
    "from numpy import inf\n",
    "\n",
    "def norm(x: Iterable, ord: Union[int, None, float], w: list = [1]*len(x)) -> float:\n",
    "    return np.linalg.norm(list(i*j for i, j in zip(x, w)), ord=ord)"
   ]
  },
  {
   "cell_type": "code",
   "execution_count": 76,
   "metadata": {},
   "outputs": [
    {
     "name": "stdout",
     "output_type": "stream",
     "text": [
      "w =  [1, 10, 5, 4, 2, 2, 6, 10, 7, 7]\n",
      "\n",
      "1st norm of x =  15.0\n",
      "2nd norm of x =  7.416198487095663\n",
      "infinite norm of x =  5.0\n",
      "weighted norm of x =  62.0\n",
      "\n",
      "1st norm of y =  29.0\n",
      "2nd norm of y =  14.45683229480096\n",
      "infinite norm of y =  10.0\n",
      "weighted norm of y =  143.0\n",
      "\n",
      "1st norm of z =  19.0\n",
      "2nd norm of z =  11.180339887498949\n",
      "infinite norm of z =  10.0\n",
      "weighted norm of z =  238.0\n"
     ]
    }
   ],
   "source": [
    "w = [random.randint(0, 10) for _ in range(len(z))]\n",
    "print(\"w = \", w)\n",
    "print()\n",
    "print(\"1st norm of x = \", norm(x, 1))\n",
    "print(\"2nd norm of x = \", norm(x, 2))\n",
    "print(\"infinite norm of x = \", norm(x, inf))\n",
    "print(\"weighted norm of x = \", norm(x, 1, w[:len(x)]))\n",
    "print()\n",
    "print(\"1st norm of y = \", norm(y, 1))\n",
    "print(\"2nd norm of y = \", norm(y, 2))\n",
    "print(\"infinite norm of y = \", norm(y, inf))\n",
    "print(\"weighted norm of y = \", norm(y, 1, w[len(y):]))\n",
    "print()\n",
    "print(\"1st norm of z = \", norm(z, 1))\n",
    "print(\"2nd norm of z = \", norm(z, 2))\n",
    "print(\"infinite norm of z = \", norm(z, inf))\n",
    "print(\"weighted norm of z = \", norm(z, 1, w))"
   ]
  },
  {
   "cell_type": "code",
   "execution_count": null,
   "metadata": {},
   "outputs": [],
   "source": [
    "A = np.linspace(1, 100, 100)\n",
    "A = A.reshape((10, 10))\n",
    "print(A)"
   ]
  },
  {
   "cell_type": "code",
   "execution_count": 47,
   "metadata": {},
   "outputs": [],
   "source": [
    "import math as m\n",
    "\n",
    "def factorial(n: int) -> int:\n",
    "    return m.factorial(n)"
   ]
  },
  {
   "cell_type": "code",
   "execution_count": 70,
   "metadata": {},
   "outputs": [
    {
     "name": "stdout",
     "output_type": "stream",
     "text": [
      "x = [1, 2, 3, 4, 5]\n",
      "w = [2, 2, 2, 2, 2]\n",
      "min of x =  1\n",
      "max of x =  5\n",
      "sum of x elements =  15\n",
      "1st norm of x =  15.0\n",
      "2nd norm of x =  7.416198487095663\n",
      "infinite norm of x =  5.0\n",
      "weighted norm of x =  30.0\n"
     ]
    }
   ],
   "source": [
    "print(\"x = \", end='')\n",
    "x = [int(n) for n in input().split()]\n",
    "print(x)\n",
    "print(\"w = \", end='')\n",
    "w = [int(n) for n in input().split()]\n",
    "print(w)\n",
    "if len(x) != len(w):\n",
    "    raise ValueError(\"the length of x must be equal to the length of w\")\n",
    "\n",
    "print(\"min of x = \", min(x))\n",
    "print(\"max of x = \", max(x))\n",
    "print(\"sum of x elements = \", sum(x))\n",
    "print(\"1st norm of x = \", norm(x, 1))\n",
    "print(\"2nd norm of x = \", norm(x, 2))\n",
    "print(\"infinite norm of x = \", norm(x, inf))\n",
    "print(\"weighted norm of x = \", norm(x, 1, w))\n"
   ]
  },
  {
   "cell_type": "code",
   "execution_count": null,
   "metadata": {},
   "outputs": [],
   "source": [
    "0 1 2 3 4 5 6 7 8 9 10 11 12 13"
   ]
  }
 ],
 "metadata": {
  "kernelspec": {
   "display_name": ".venv",
   "language": "python",
   "name": "python3"
  },
  "language_info": {
   "codemirror_mode": {
    "name": "ipython",
    "version": 3
   },
   "file_extension": ".py",
   "mimetype": "text/x-python",
   "name": "python",
   "nbconvert_exporter": "python",
   "pygments_lexer": "ipython3",
   "version": "3.11.4"
  },
  "orig_nbformat": 4
 },
 "nbformat": 4,
 "nbformat_minor": 2
}
